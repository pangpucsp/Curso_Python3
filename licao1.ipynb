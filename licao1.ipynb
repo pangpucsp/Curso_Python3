{
 "cells": [
  {
   "cell_type": "markdown",
   "metadata": {},
   "source": [
    "# 1. Introdução\n",
    "\n",
    "Vamos aprender Python3 através dos exemplos. Para executar o código de uma célula, posicione o curso na célula e use o botão ![run](botao_run.png) acima, ou tecle <kbd>Shift+Enter</kbd> \\(botão Shift e Enter ao mesmo tempo\\).\n",
    "\n",
    "Experimente com a célula abaixo."
   ]
  },
  {
   "cell_type": "code",
   "execution_count": null,
   "metadata": {},
   "outputs": [],
   "source": [
    "print(\"Alo,Terezinha!\")"
   ]
  },
  {
   "cell_type": "markdown",
   "metadata": {},
   "source": [
    "Experimente mudar o texto entre aspas e reexecute a célula.\n",
    "\n",
    "É importante começar a ter contato com erros, execute as duas células abaixo e observe as mensagens de erro fornecidas pelo interpretador Python embutido no servidor."
   ]
  },
  {
   "cell_type": "code",
   "execution_count": null,
   "metadata": {},
   "outputs": [],
   "source": [
    "# Isto é um comentário, até o fim da linha\n",
    "# A sintaxe abaixo era válida para o Python2, mas não para o Python3\n",
    "print \"Olá, Toto!\""
   ]
  },
  {
   "cell_type": "code",
   "execution_count": null,
   "metadata": {},
   "outputs": [],
   "source": [
    "'''Esta é uma maneira de escrever comentários em várias linhas.\n",
    "   A função imprime não existe, o que provoca erro ao tentar\n",
    "   executar esta célula.'''\n",
    "imprime(\"Alo, Mamãe!\")"
   ]
  },
  {
   "cell_type": "markdown",
   "metadata": {},
   "source": [
    "Familiaridade com as mensagens de erro em exemplos simples permitem a rápida localização de erros quando escrevemos códigos com múltiplas linha. Observe que no último exemplo, o interpretador localizou a linha com o erro e explicou, em inglês, que o nome imprime é indefinido, isto é, esta função não existe.\n"
   ]
  },
  {
   "cell_type": "markdown",
   "metadata": {},
   "source": [
    "## Análise da instrução: print(\"Alo, Terezinha!\")\n",
    "\n",
    "Ao executar a instrução você percebeu que ela resulta na escrita do texto: Alo, Terezinha!\n",
    "Isto é o que o programa Python constituído por esta única instrução mandou o computador fazer.\n",
    "\n",
    "Vamos analisar a instrução pelos seus componentes:\n",
    "\n",
    "  **\"Alo, Terezinha!\"** :  Um texto entre aspas (\") em Python é chamado de string,\n",
    "  mais precisamente, é uma string literal, ou uma constante string;\n",
    "  \n",
    "  **print()** : Um nome, *print*, seguido de abre parenteses é uma chamada de função.\n",
    "  Neste caso, o nome da função é *print* e esta função faz o argumento dela, aquilo\n",
    "  que está entre parenteses, seja colocado na tela de saída.\n",
    "  O argumento da função *print* deve ser uma string, ou algo que possa ser\n",
    "  convertido para string.\n",
    "  \n",
    "Experimente executar a célula abaixo."
   ]
  },
  {
   "cell_type": "code",
   "execution_count": 1,
   "metadata": {},
   "outputs": [
    {
     "name": "stdout",
     "output_type": "stream",
     "text": [
      "Alo,\n",
      "Mamae!\n"
     ]
    }
   ],
   "source": [
    "print(\"Alo,\")\n",
    "print(\"Mamae!\")"
   ]
  },
  {
   "cell_type": "markdown",
   "metadata": {},
   "source": [
    "Observe que cada instrução *print()* imprimiu uma linha na saída e que as instruções estão em\n",
    "linhas separadas. Em Python, as instruções terminam com um salto de linha, não há a necessidade de terminá-las com *;* como acontece em muitas outras linguagens de programação."
   ]
  },
  {
   "cell_type": "code",
   "execution_count": null,
   "metadata": {},
   "outputs": [],
   "source": []
  }
 ],
 "metadata": {
  "kernelspec": {
   "display_name": "Python 3",
   "language": "python",
   "name": "python3"
  },
  "language_info": {
   "codemirror_mode": {
    "name": "ipython",
    "version": 3
   },
   "file_extension": ".py",
   "mimetype": "text/x-python",
   "name": "python",
   "nbconvert_exporter": "python",
   "pygments_lexer": "ipython3",
   "version": "3.6.8"
  }
 },
 "nbformat": 4,
 "nbformat_minor": 2
}

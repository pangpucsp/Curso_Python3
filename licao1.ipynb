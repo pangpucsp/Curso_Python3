{
 "cells": [
  {
   "cell_type": "markdown",
   "metadata": {},
   "source": [
    "# 1. Introdução\n",
    "\n",
    "Vamos aprender Python3 através dos exemplos. Um notebook \\(o arquivo que você está vendo é chamado de notebook\\) é constituído por células. Você está lendo uma célula de texto escrito na linguagem **Markdown**, que é uma linguagem de marcação muito mais simples do que HTML e similares. Ela está sendo renderizada pelo sistema *jupyter notebook*. Se você quiser ver como foi escrito este texto, clique duas vezes na célula e você verá o texto original não renderizado. Para executar o código de uma célula, posicione o curso na célula e use o botão <img src=\"botao_run.png\" alt=\"Botão de Run\" style=\"width:72px;height:27px;\"> acima, ou tecle <kbd>Shift+Enter</kbd> \\(botão Shift e Enter ao mesmo tempo\\). Ao executar uma célula do tipo **Markdown**, a célula é renderizada, isto é, ela é formatada de modo a ter uma aparência mais adequada. Se a célula é do tipo **Código**, o código Python dentro da célula é executado no servidor e o resultado é apresentado abaixo da célula.\n",
    "\n",
    "Experimente *executar* a célula de **Código** abaixo."
   ]
  },
  {
   "cell_type": "code",
   "execution_count": null,
   "metadata": {},
   "outputs": [],
   "source": [
    "print(\"Alo,Terezinha!\")"
   ]
  },
  {
   "cell_type": "markdown",
   "metadata": {},
   "source": [
    "Experimente mudar o texto entre aspas e reexecute a célula.\n",
    "\n",
    "É importante começar a ter contato com erros. Infelizmente, erros sempre ocorrem em programas. Execute as duas células abaixo e observe as mensagens de erro fornecidas pelo interpretador Python embutido no servidor."
   ]
  },
  {
   "cell_type": "code",
   "execution_count": null,
   "metadata": {},
   "outputs": [],
   "source": [
    "# Isto é um comentário, até o fim da linha\n",
    "# A sintaxe abaixo era válida para o Python2, mas não para o Python3\n",
    "print \"Olá, Toto!\""
   ]
  },
  {
   "cell_type": "code",
   "execution_count": null,
   "metadata": {},
   "outputs": [],
   "source": [
    "'''Esta é uma maneira de escrever comentários em várias linhas.\n",
    "   A função imprime não existe no Python básico, o que provoca erro ao tentar\n",
    "   executar esta célula.'''\n",
    "imprime(\"Alo, Mamãe!\")"
   ]
  },
  {
   "cell_type": "markdown",
   "metadata": {},
   "source": [
    "Adquirir familiaridade com as mensagens de erro em exemplos simples é importante. Esta familiaridade permitirá a localização e compreensão de erros mais rapidamente quando formos escrever códigos com múltiplas linha. Observe que no último exemplo, o interpretador localizou a linha com o erro e explicou, em inglês, que o nome *imprime* é indefinido, isto é, esta função não existe.\n"
   ]
  },
  {
   "cell_type": "markdown",
   "metadata": {},
   "source": [
    "## 1.1 Análise da instrução: print(\"Alo, Terezinha!\")\n",
    "\n",
    "Ao executar a instrução você percebeu que ela resulta na escrita do texto: Alo, Terezinha!\n",
    "Isto é o que o programa Python constituído por esta única instrução mandou o computador fazer.\n",
    "\n",
    "Vamos analisar a instrução pelos seus componentes:\n",
    "\n",
    "  **\"Alo, Terezinha!\"** :  Um texto entre aspas (\"), ou entre apóstrofes (') em Python é chamado\n",
    "  de *`string`*, mais precisamente, é uma *string literal*, ou uma *constante string*;\n",
    "  \n",
    "  **print()** : Um nome, `print`, seguido de abre e fecha parenteses \\(\\) é uma chamada de função.\n",
    "  Neste caso, o nome da função é `print` e esta função faz o argumento dela, aquilo\n",
    "  que está entre os parenteses, seja colocado na tela de saída.\n",
    "  O argumento da função `print` deve ser uma `string`, ou algo que possa ser\n",
    "  convertido para `string`.\n",
    "  \n",
    "Experimente executar a célula abaixo."
   ]
  },
  {
   "cell_type": "code",
   "execution_count": null,
   "metadata": {},
   "outputs": [],
   "source": [
    "print(\"Alo,\")\n",
    "print(\"Mamae!\")"
   ]
  },
  {
   "cell_type": "markdown",
   "metadata": {},
   "source": [
    "Um programa é constituído de uma ou mais instruções, as instruções em Python ficam em linhas diferentes. As instruções são executadas em sequência na ordem em que elas estão no código.\n",
    "\n",
    "Observe que cada instrução *print()* imprimiu uma linha na saída e que as instruções estão em\n",
    "linhas separadas. Em Python, as instruções terminam com um salto de linha, não há a necessidade de terminá-las com **;** como acontece em muitas outras linguagens de programação.\n",
    "\n",
    "Podemos pedir ao Python para memorizar os dados para podermos usar mais tarde. Para tanto, damos um nome para os dados a serem memorizados. Os dados são chamados de valores e são colocados numa **variável** que pode ser recuperada através do *nome da variável*. A célula a seguir mostra a variável *carro* memorizando o valor *'Fusca'*, esta operação \\(colocar um valor numa variável\\) é chamada de *atribuição* e é feita pela sinal de `=` \\(igual\\). Na instrução seguinte, procura-se imprimir a variável *carro* e o Python descobre que o valor da variável *carro* é uma *string* e imprime o valor."
   ]
  },
  {
   "cell_type": "code",
   "execution_count": null,
   "metadata": {},
   "outputs": [],
   "source": [
    "carro = 'Fusca'\n",
    "print(carro)"
   ]
  },
  {
   "cell_type": "markdown",
   "metadata": {},
   "source": [
    "## 1.2 Variáveis em Python\n",
    "\n",
    "Variáveis em programação servem para memorizar dados. Cada variável tem seu próprio nome que tecnicamente é chamado de **identificador**. Podemos colocar valores nas variáveis, esta operação é chamada de **atribuição**. Ao atribuir um valor \\(dado\\) a uma variável, podemos recuperar este valor pelo identificador da variável. Foi o que fizemos na célula acima com a variável *carro* ao mandar imprimir a variável.\n",
    "\n",
    "Em algumas linguagens de programação, as variáveis têm um tipo de dado associado. Além disso, algumas linguagens obrigam a declaração das variáveis antes que elas possam ser utilizadas. As variáveis em Python não precisam ser declaradas, na verdade, não podemos declarar variáveis em Python. As variáveis em Python não têm tipo de dados associadas a elas. Dois exemplos de tipos de dados de Python são dados numéricos \\(*number*\\) e dados textuais \\(*string*\\).\n",
    "\n",
    "Na célula abaixo, a variável *dado* recebe inicialmente o valor numérico *42* e posteriormente o valor textual *'A resposta à pergunta derradeira é '*."
   ]
  },
  {
   "cell_type": "code",
   "execution_count": null,
   "metadata": {},
   "outputs": [],
   "source": [
    "dado = 42\n",
    "print(dado)\n",
    "dado = 'A resposta à pergunta derradeira é '\n",
    "print(dado)"
   ]
  },
  {
   "cell_type": "markdown",
   "metadata": {},
   "source": [
    "Na execução da célula acima, perceba que o primeiro valor de *dado* era *42*, o *42* desapareceu totalmente depois da segunda **atribuição** a *dado*. Isto é, cada variável só pode guardar um valor de cada vez. Se quisermos guardar diversos valores numa variável, teremos de usar um tipo de dado que aceita diversos valores simultaneamente, como uma *lista*. Veremos estas estruturas de dados na [lição 2](licao2.ipynb).\n",
    "\n",
    "Além de receber valores literais como foi feito acima, as variáveis podem receber o resultado de operações. Na célula abaixo, a variável *dado* recebe o valor da concatenação de dois textos. A concatenação de *strings* é uma operação sobre 2 *strings*. O primeiro é juntado ao segundo para formar um terceiro que é a união dos 2."
   ]
  },
  {
   "cell_type": "code",
   "execution_count": null,
   "metadata": {},
   "outputs": [],
   "source": [
    "dado = \"A resposta à pergunta derradeira é \" + \"42\"\n",
    "print(dado)"
   ]
  },
  {
   "cell_type": "markdown",
   "metadata": {},
   "source": [
    "O operador *+*, aplicado a duas strings, concatena \\(junta\\) as duas strings. *Strings* são tão importantes que em algumas linguagens de programação existem conversões automáticas \\(alguns dizem, automágicas\\) de outros tipos para *strings*. Assim, poderíamos re-escrever a célula acima como:  "
   ]
  },
  {
   "cell_type": "code",
   "execution_count": null,
   "metadata": {
    "scrolled": true
   },
   "outputs": [],
   "source": [
    "dado = \"A resposta à pergunta derradeira é \" + 42\n",
    "print(dado)"
   ]
  },
  {
   "cell_type": "markdown",
   "metadata": {},
   "source": [
    "Ao executar a célula acima, você deve ter descoberto que o Python não faz a conversão automática de inteiro para *string*. Para converter um valor numérico em string, precisamos usar a função global *str()* conforme mostrado na célula abaixo:"
   ]
  },
  {
   "cell_type": "code",
   "execution_count": null,
   "metadata": {},
   "outputs": [],
   "source": [
    "dado = \"A resposta à pergunta derradeira é \" + str(40 + 2)\n",
    "print(dado)"
   ]
  },
  {
   "cell_type": "markdown",
   "metadata": {},
   "source": [
    "Observe que usamos a operação de adição numérica para mostrar que o operador *+* além de juntar strings serve também para adicionar números \\(valores numéricos\\)."
   ]
  },
  {
   "cell_type": "markdown",
   "metadata": {},
   "source": [
    "Veremos mais sobre os operadores mais adiante. Por ora, voltemos às variáveis. Como foi dito, em Python as variáveis não são declaradas e não são tipadas, i.e., não têm tipo fixo. Precisamos aprender um pouco mais sobre os nomes das variáveis.\n",
    "\n",
    "### 1.2.1 Identificadores de Variáveis\n",
    "\n",
    "O nome de uma variável é chamado de **identificador da variável**. É através dele que podemos acessar os dados associados à variável que estão guardados na memória do computador. Os identificadores em Python são constituídos de letras \\[A-Z\\] e \\[a-z\\], dígitos \\[0-9\\] e sublinhado \\_. O identificador não pode começar com um dígito. O Python diferencia maiúsculas e minúsculas nos seu identificadores; *minhaVar* é diferente de de *MinhaVar*.\n",
    "\n",
    "Exemplos de identificadores válidos para variáveis em Python: idade, inteiro, numero, letra, data, carro, marca_do_carro, marcaDoCarro, \\_meu_sistema, \\__minha_variavel_.\n",
    "\n",
    "Exemplos de identificadores inválidos: &data, arq$uivo, nome-do-carro, meu@email, alguma#variavel, 3com, quero+mais.\n",
    "\n",
    "Embora o Python permita usar letras acentuadas e c-cedilha nos identificadores, não recomendamos fazê-lo. Existem normas de como se deve [escolher os nomes](https://www.python.org/dev/peps/pep-0008/#naming-conventions) para variáveis em Python. Vamos tentar seguir estas normas neste curso. As normas estão em inglês e o link a seguir permite acessar uma tradução de uma versão antiga do [PEP 8 em português](https://wiki.python.org.br/GuiaDeEstilo).\n",
    "\n",
    "### 1.2.2 O que podemos fazer com uma variável?\n",
    "\n",
    "#### 1.2.2.1 Colocar valores nela: Atribuição\n",
    "Quando o nome da variável está no lado esquerdo de uma atribuição, lado esquerdo do sinal de igual \\(`=`\\), o valor à direita é colocado na memória e associado ao nome da variável.\n",
    "\n",
    "Podemos ainda associar um valor na memória com o nome de uma variável na chamada de funções. Os parâmetros das funções se comportam como variáveis e os valores dos argumentos na chamada são associados aos parâmetros definidos na função. Não se preocupe se você não entendeu este parágrafo, não vimos ainda como definir uma função, nem a diferença entre argumento e parâmetro. Veremos isto na lição sobre funções. Mas já chamamos a função `print` passamos um argumento do tipo `string` para ela.\n",
    "\n",
    "#### 1.2.2.2 Ler os valores que estão nela\n",
    "Sempre que o nome de uma variável não é usado para receber um valor, ele é usado para fornecer o valor que está associado à variável.\n",
    "\n",
    "Para completar esta lição, as células a seguir apresentam diversos exemplos e exercícios com variáveis para você treinar. Execute os exemplos e resolva os exercícios.\n"
   ]
  },
  {
   "cell_type": "code",
   "execution_count": 1,
   "metadata": {},
   "outputs": [
    {
     "ename": "SyntaxError",
     "evalue": "invalid syntax (<ipython-input-1-e81abc626809>, line 2)",
     "output_type": "error",
     "traceback": [
      "\u001b[1;36m  File \u001b[1;32m\"<ipython-input-1-e81abc626809>\"\u001b[1;36m, line \u001b[1;32m2\u001b[0m\n\u001b[1;33m    nome completo = \"José\" + \" da Silva\"\u001b[0m\n\u001b[1;37m                ^\u001b[0m\n\u001b[1;31mSyntaxError\u001b[0m\u001b[1;31m:\u001b[0m invalid syntax\n"
     ]
    }
   ],
   "source": [
    "# Exercício 1: Execute esta célula e observe a mensagem de erro. Corrija o erro, muito comum, no nome da variável:\n",
    "nome completo = \"José\" + \" da Silva\""
   ]
  },
  {
   "cell_type": "code",
   "execution_count": 10,
   "metadata": {},
   "outputs": [
    {
     "name": "stdout",
     "output_type": "stream",
     "text": [
      "composto = 1051.1401320407897\n",
      "linear = 1050.0\n",
      "diferença entre composto e linear = 1.1401320407896947\n"
     ]
    }
   ],
   "source": [
    "# Exemplo numérico, vamos usar o Python para fazer alguns cálculos\n",
    "# Vamos calcular o valor final de um investimento em 10 meses\n",
    "# a uma taxa de 0,5% ao mes usando juros compostos e comparar\n",
    "# com o juros linear.\n",
    "taxa = 0.5    # observe que não usamos vírgula, usamos o ponto\n",
    "              # para separar a parte inteira da decimal, taxa mensal\n",
    "no_meses = 10 # número de meses\n",
    "atual = 1000  # não coloque o . para milhar, milhão, ...\n",
    "composto = 1000 * pow(1+taxa/100, 10) # a função pow() eleva o primeiro\n",
    "                                      # argumento à potência do segundo\n",
    "linear = 1000 * (1 + 10 * taxa / 100)\n",
    "print(\"composto = \" + str(composto))\n",
    "print(\"linear = \" + str(linear))\n",
    "print(\"diferença entre composto e linear = \" + str(composto - linear))"
   ]
  },
  {
   "cell_type": "code",
   "execution_count": 11,
   "metadata": {},
   "outputs": [
    {
     "ename": "TypeError",
     "evalue": "can only concatenate str (not \"float\") to str",
     "output_type": "error",
     "traceback": [
      "\u001b[1;31m---------------------------------------------------------------------------\u001b[0m",
      "\u001b[1;31mTypeError\u001b[0m                                 Traceback (most recent call last)",
      "\u001b[1;32m<ipython-input-11-8f25616b5162>\u001b[0m in \u001b[0;36m<module>\u001b[1;34m\u001b[0m\n\u001b[0;32m      1\u001b[0m \u001b[1;31m# Exercício 2: Corrija os erros\u001b[0m\u001b[1;33m\u001b[0m\u001b[1;33m\u001b[0m\u001b[1;33m\u001b[0m\u001b[0m\n\u001b[1;32m----> 2\u001b[1;33m \u001b[0mprint\u001b[0m\u001b[1;33m(\u001b[0m\u001b[1;34m\"diferença entre composto e linear = \"\u001b[0m \u001b[1;33m+\u001b[0m \u001b[1;33m(\u001b[0m\u001b[0mcomposto\u001b[0m \u001b[1;33m-\u001b[0m \u001b[0mlinear\u001b[0m\u001b[1;33m)\u001b[0m\u001b[1;33m)\u001b[0m\u001b[1;33m\u001b[0m\u001b[1;33m\u001b[0m\u001b[0m\n\u001b[0m\u001b[0;32m      3\u001b[0m \u001b[0mprint\u001b[0m\u001b[1;33m(\u001b[0m\u001b[1;34m\"diferença entre composto e linear = \"\u001b[0m \u001b[1;33m+\u001b[0m \u001b[0mstr\u001b[0m\u001b[1;33m(\u001b[0m\u001b[0mcomposto\u001b[0m\u001b[1;33m)\u001b[0m \u001b[1;33m-\u001b[0m \u001b[0mstr\u001b[0m\u001b[1;33m(\u001b[0m\u001b[0mlinear\u001b[0m\u001b[1;33m)\u001b[0m\u001b[1;33m)\u001b[0m\u001b[1;33m\u001b[0m\u001b[1;33m\u001b[0m\u001b[0m\n\u001b[0;32m      4\u001b[0m \u001b[0mprint\u001b[0m\u001b[1;33m(\u001b[0m\u001b[1;34m\"diferença entre composto e linear = \"\u001b[0m \u001b[1;33m+\u001b[0m \u001b[0mstr\u001b[0m\u001b[1;33m(\u001b[0m\u001b[0mcomposto\u001b[0m\u001b[1;33m)\u001b[0m \u001b[1;33m+\u001b[0m \u001b[0mstr\u001b[0m\u001b[1;33m(\u001b[0m\u001b[1;33m-\u001b[0m\u001b[0mlinear\u001b[0m\u001b[1;33m)\u001b[0m\u001b[1;33m)\u001b[0m\u001b[1;33m\u001b[0m\u001b[1;33m\u001b[0m\u001b[0m\n",
      "\u001b[1;31mTypeError\u001b[0m: can only concatenate str (not \"float\") to str"
     ]
    }
   ],
   "source": [
    "# Exercício 2: Corrija os erros\n",
    "print(\"diferença entre composto e linear = \" + (composto - linear))\n",
    "print(\"diferença entre composto e linear = \" + str(composto) - str(linear))\n",
    "print(\"diferença entre composto e linear = \" + str(composto) + str(-linear))"
   ]
  },
  {
   "cell_type": "markdown",
   "metadata": {},
   "source": [
    "Observe que na última linha, o erro não foi de sintaxe e o interpretador imprimiu um resultado. Este resultado não tem lógica, daí, temos um **erro de lógica**. Além dos *erros de sintaxe*, identificados pelo interpretador \\(ou pelo compilador\\), os programas frequentemente sofrem com *erros de lógica*. É óbvio que erros de lógica são mais complexos de serem identificados e corrigidos. É por causa dos erros de lógica que muitas linguagens de programação exigem pré-declaração das variáveis, as variáveis têm tipos fixos, ... Estas restrições procuram fazer com que alguns erros de lógica se transformem em erros de sintaxe e possam ser localizados pelo compilador/interpretador."
   ]
  },
  {
   "cell_type": "code",
   "execution_count": null,
   "metadata": {},
   "outputs": [],
   "source": []
  }
 ],
 "metadata": {
  "kernelspec": {
   "display_name": "Python 3",
   "language": "python",
   "name": "python3"
  },
  "language_info": {
   "codemirror_mode": {
    "name": "ipython",
    "version": 3
   },
   "file_extension": ".py",
   "mimetype": "text/x-python",
   "name": "python",
   "nbconvert_exporter": "python",
   "pygments_lexer": "ipython3",
   "version": "3.7.3"
  }
 },
 "nbformat": 4,
 "nbformat_minor": 2
}

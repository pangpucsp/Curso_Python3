{
 "cells": [
  {
   "cell_type": "markdown",
   "metadata": {},
   "source": [
    "# 1. Introdução\n",
    "\n",
    "Vamos aprender Python3 através dos exemplos. Para executar o código de uma célula, posicione o curso na célula e use o botão \\>| Run acima, ou tecle **&lt;shift&gt;-Enter** \\(botão Shift e Enter ao mesmo tempo\\).\n",
    "\n",
    "Experimente com a célula abaixo."
   ]
  },
  {
   "cell_type": "code",
   "execution_count": 2,
   "metadata": {},
   "outputs": [
    {
     "name": "stdout",
     "output_type": "stream",
     "text": [
      "Alo,Terezinha!\n"
     ]
    }
   ],
   "source": [
    "print(\"Alo,Terezinha!\")"
   ]
  },
  {
   "cell_type": "markdown",
   "metadata": {},
   "source": [
    "Experimente mudar o texto entre aspas e reexecute a célula.\n",
    "\n",
    "É importante começar a ter contato com erros, execute as duas células abaixo e observe as mensagens de erro fornecidas pelo interpretador Python embutido no servidor."
   ]
  },
  {
   "cell_type": "code",
   "execution_count": 3,
   "metadata": {},
   "outputs": [
    {
     "ename": "SyntaxError",
     "evalue": "Missing parentheses in call to 'print'. Did you mean print(\"Olá, Toto!\")? (<ipython-input-3-534b266e34b0>, line 3)",
     "output_type": "error",
     "traceback": [
      "\u001b[1;36m  File \u001b[1;32m\"<ipython-input-3-534b266e34b0>\"\u001b[1;36m, line \u001b[1;32m3\u001b[0m\n\u001b[1;33m    print \"Olá, Toto!\"\u001b[0m\n\u001b[1;37m                     ^\u001b[0m\n\u001b[1;31mSyntaxError\u001b[0m\u001b[1;31m:\u001b[0m Missing parentheses in call to 'print'. Did you mean print(\"Olá, Toto!\")?\n"
     ]
    }
   ],
   "source": [
    "# isto é um comentário, até o fim da linha\n",
    "# A sintaxe abaixo era válida para o Python2, mas não para o Python3\n",
    "print \"Olá, Toto!\""
   ]
  },
  {
   "cell_type": "code",
   "execution_count": 4,
   "metadata": {},
   "outputs": [
    {
     "ename": "NameError",
     "evalue": "name 'imprime' is not defined",
     "output_type": "error",
     "traceback": [
      "\u001b[1;31m---------------------------------------------------------------------------\u001b[0m",
      "\u001b[1;31mNameError\u001b[0m                                 Traceback (most recent call last)",
      "\u001b[1;32m<ipython-input-4-e4803e88c35e>\u001b[0m in \u001b[0;36m<module>\u001b[1;34m\u001b[0m\n\u001b[0;32m      1\u001b[0m '''Esta é uma maneira de escrever comentários em várias linhas.\n\u001b[0;32m      2\u001b[0m    A função imprime não existe.'''\n\u001b[1;32m----> 3\u001b[1;33m \u001b[0mimprime\u001b[0m\u001b[1;33m(\u001b[0m\u001b[1;34m\"Alo, Mamãe!\"\u001b[0m\u001b[1;33m)\u001b[0m\u001b[1;33m\u001b[0m\u001b[1;33m\u001b[0m\u001b[0m\n\u001b[0m",
      "\u001b[1;31mNameError\u001b[0m: name 'imprime' is not defined"
     ]
    }
   ],
   "source": [
    "'''Esta é uma maneira de escrever comentários em várias linhas.\n",
    "   A função imprime não existe.'''\n",
    "imprime(\"Alo, Mamãe!\")"
   ]
  },
  {
   "cell_type": "markdown",
   "metadata": {},
   "source": [
    "Familiaridade com as mensagens de erro em exemplos simples permitem a rápida localização de erros quando escrevemos códigos com múltiplas linha. Observe que no último exemplo, o interpretador localizou a linha com o erro e explicou, em inglês, que o nome imprime é indefinido, isto é, esta função não existe.\n"
   ]
  },
  {
   "cell_type": "code",
   "execution_count": null,
   "metadata": {},
   "outputs": [],
   "source": []
  }
 ],
 "metadata": {
  "kernelspec": {
   "display_name": "Python 3",
   "language": "python",
   "name": "python3"
  },
  "language_info": {
   "codemirror_mode": {
    "name": "ipython",
    "version": 3
   },
   "file_extension": ".py",
   "mimetype": "text/x-python",
   "name": "python",
   "nbconvert_exporter": "python",
   "pygments_lexer": "ipython3",
   "version": "3.6.8"
  }
 },
 "nbformat": 4,
 "nbformat_minor": 2
}

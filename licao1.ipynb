{
 "cells": [
  {
   "cell_type": "markdown",
   "metadata": {},
   "source": [
    "# 1. Introdução\n",
    "\n",
    "Vamos aprender Python3 através dos exemplos. Um notebook \\(o arquivo que você está vendo é chamado de notebook\\) é constituído por células. Você está lendo uma célula de texto escrito na linguagem **Markdown**, que é uma linguagem de marcação muito mais simples do que HTML e similares. Ela está sendo renderizada pelo sistema *jupyter notebook*. Se você quiser ver como foi escrito este texto, clique duas vezes na célula e você verá o texto original não renderizado. Para executar o código de uma célula, posicione o curso na célula e use o botão <img src=\"botao_run.png\" alt=\"Botão de Run\" style=\"width:72px;height:27px;\"> acima, ou tecle <kbd>Shift+Enter</kbd> \\(botão Shift e Enter ao mesmo tempo\\). Ao executar uma célula do tipo **Markdown**, a célula é renderizada, isto é, ela é formatada de modo a ter uma aparência mais adequada. Se a célula é do tipo **Código**, o código Python dentro da célula é executado no servidor e o resultado é apresentado abaixo da célula.\n",
    "\n",
    "Experimente *executar* a célula de **Código** abaixo."
   ]
  },
  {
   "cell_type": "code",
   "execution_count": null,
   "metadata": {},
   "outputs": [],
   "source": [
    "print(\"Alo,Terezinha!\")"
   ]
  },
  {
   "cell_type": "markdown",
   "metadata": {},
   "source": [
    "Experimente mudar o texto entre aspas e reexecute a célula.\n",
    "\n",
    "É importante começar a ter contato com erros, execute as duas células abaixo e observe as mensagens de erro fornecidas pelo interpretador Python embutido no servidor."
   ]
  },
  {
   "cell_type": "code",
   "execution_count": null,
   "metadata": {},
   "outputs": [],
   "source": [
    "# Isto é um comentário, até o fim da linha\n",
    "# A sintaxe abaixo era válida para o Python2, mas não para o Python3\n",
    "print \"Olá, Toto!\""
   ]
  },
  {
   "cell_type": "code",
   "execution_count": null,
   "metadata": {},
   "outputs": [],
   "source": [
    "'''Esta é uma maneira de escrever comentários em várias linhas.\n",
    "   A função imprime não existe no Python básico, o que provoca erro ao tentar\n",
    "   executar esta célula.'''\n",
    "imprime(\"Alo, Mamãe!\")"
   ]
  },
  {
   "cell_type": "markdown",
   "metadata": {},
   "source": [
    "Familiaridade com as mensagens de erro em exemplos simples permitem a rápida localização de erros quando escrevemos códigos com múltiplas linha. Observe que no último exemplo, o interpretador localizou a linha com o erro e explicou, em inglês, que o nome imprime é indefinido, isto é, esta função não existe.\n"
   ]
  },
  {
   "cell_type": "markdown",
   "metadata": {},
   "source": [
    "## 1.1 Análise da instrução: print(\"Alo, Terezinha!\")\n",
    "\n",
    "Ao executar a instrução você percebeu que ela resulta na escrita do texto: Alo, Terezinha!\n",
    "Isto é o que o programa Python constituído por esta única instrução mandou o computador fazer.\n",
    "\n",
    "Vamos analisar a instrução pelos seus componentes:\n",
    "\n",
    "  **\"Alo, Terezinha!\"** :  Um texto entre aspas (\"), ou entre apóstrofes (') em Python é chamado\n",
    "  de string, mais precisamente, é uma string literal, ou uma constante string;\n",
    "  \n",
    "  **print()** : Um nome, *print*, seguido de abre e fecha parenteses é uma chamada de função.\n",
    "  Neste caso, o nome da função é *print* e esta função faz o argumento dela, aquilo\n",
    "  que está entre os parenteses, seja colocado na tela de saída.\n",
    "  O argumento da função *print* deve ser uma string, ou algo que possa ser\n",
    "  convertido para string.\n",
    "  \n",
    "Experimente executar a célula abaixo."
   ]
  },
  {
   "cell_type": "code",
   "execution_count": 1,
   "metadata": {},
   "outputs": [
    {
     "name": "stdout",
     "output_type": "stream",
     "text": [
      "Alo,\n",
      "Mamae!\n"
     ]
    }
   ],
   "source": [
    "print(\"Alo,\")\n",
    "print(\"Mamae!\")"
   ]
  },
  {
   "cell_type": "markdown",
   "metadata": {},
   "source": [
    "Observe que cada instrução *print()* imprimiu uma linha na saída e que as instruções estão em\n",
    "linhas separadas. Em Python, as instruções terminam com um salto de linha, não há a necessidade de terminá-las com **;** como acontece em muitas outras linguagens de programação.\n",
    "\n",
    "Podemos pedir ao Python para memorizar os dados para podermos usar mais tarde. Para tanto, damos um nome para os dados a serem memorizados. Os dados são chamados valores e são colocados numa variável que pode ser recuperada através do *nome da variável*. A célula a seguir mostra a variável *carro* memorizando o valor *'Fusca'*. Na instrução seguinte, imprime-se a variável *carro* e o Python descobre que o valor da variável é uma string e imprime este valor."
   ]
  },
  {
   "cell_type": "code",
   "execution_count": 1,
   "metadata": {},
   "outputs": [
    {
     "name": "stdout",
     "output_type": "stream",
     "text": [
      "Fusca\n"
     ]
    }
   ],
   "source": [
    "carro = 'Fusca'\n",
    "print(carro)"
   ]
  },
  {
   "cell_type": "markdown",
   "metadata": {},
   "source": [
    "## 1.2 Variáveis em Python\n",
    "\n",
    "Variáveis em programação servem para memorizar dados. Cada variável tem seu próprio nome que tecnicamente é chamado de identificador. Podemos colocar valores nas variáveis, esta operação é chamada de **atribuição**. Ao atribuir um valor \\(dado\\) a uma variável, podemos recuperar este valor pelo identificador da variável. Foi o que fizemos na célula acima com a variável *carro* ao mandar imprimir a variável.\n",
    "\n",
    "Em algumas linguagens de programação, as variáveis têm um tipo de dado associado. Além disso, algumas linguagens obrigam a declaração das variáveis antes que elas possam ser utilizadas. As variáveis em Python não precisam ser declaradas, na verdade, não podemos declarar variáveis em Python. As variáveis em Python não têm tipo de dados associadas a elas. Dois exemplos de tipos de dados de Python são dados numéricos \\(number\\) e dados textuais \\(string\\).\n",
    "\n",
    "Na célula abaixo, a variável *dado* recebe inicialmente o valor numérico 42 e posteriormente o valor textual *'A resposta à pergunta derradeira é '*."
   ]
  },
  {
   "cell_type": "code",
   "execution_count": 2,
   "metadata": {},
   "outputs": [
    {
     "name": "stdout",
     "output_type": "stream",
     "text": [
      "42\n",
      "A resposta à pergunta derradeira é \n"
     ]
    }
   ],
   "source": [
    "dado = 42\n",
    "print(dado)\n",
    "dado = 'A resposta à pergunta derradeira é '\n",
    "print(dado)"
   ]
  },
  {
   "cell_type": "markdown",
   "metadata": {},
   "source": [
    "Além de receber valores literais como foi feito acima, as variáveis podem receber o resultado de operações. Na célula abaixo, a variável dado recebe o valor da concatenação de dois textos."
   ]
  },
  {
   "cell_type": "code",
   "execution_count": 3,
   "metadata": {},
   "outputs": [
    {
     "name": "stdout",
     "output_type": "stream",
     "text": [
      "A resposta à pergunta derradeira é 42\n"
     ]
    }
   ],
   "source": [
    "dado = \"A resposta à pergunta derradeira é \" + \"42\"\n",
    "print(dado)"
   ]
  },
  {
   "cell_type": "markdown",
   "metadata": {},
   "source": [
    "O operador *+*, aplicado a duas strings, concatena \\(junta\\) as duas strings. Strings são tão importantes outras linguagens que existem conversões automáticas \\(alguns dizem, automágicas\\) de outros tipos para strings. Assim, poderíamos re-escrever a célula acima como:  "
   ]
  },
  {
   "cell_type": "code",
   "execution_count": 4,
   "metadata": {},
   "outputs": [
    {
     "ename": "TypeError",
     "evalue": "must be str, not int",
     "output_type": "error",
     "traceback": [
      "\u001b[1;31m---------------------------------------------------------------------------\u001b[0m",
      "\u001b[1;31mTypeError\u001b[0m                                 Traceback (most recent call last)",
      "\u001b[1;32m<ipython-input-4-79027f0bf774>\u001b[0m in \u001b[0;36m<module>\u001b[1;34m\u001b[0m\n\u001b[1;32m----> 1\u001b[1;33m \u001b[0mdado\u001b[0m \u001b[1;33m=\u001b[0m \u001b[1;34m\"A resposta à pergunta derradeira é \"\u001b[0m \u001b[1;33m+\u001b[0m \u001b[1;36m42\u001b[0m\u001b[1;33m\u001b[0m\u001b[1;33m\u001b[0m\u001b[0m\n\u001b[0m\u001b[0;32m      2\u001b[0m \u001b[0mprint\u001b[0m\u001b[1;33m(\u001b[0m\u001b[0mdado\u001b[0m\u001b[1;33m)\u001b[0m\u001b[1;33m\u001b[0m\u001b[1;33m\u001b[0m\u001b[0m\n",
      "\u001b[1;31mTypeError\u001b[0m: must be str, not int"
     ]
    }
   ],
   "source": [
    "dado = \"A resposta à pergunta derradeira é \" + 42\n",
    "print(dado)"
   ]
  },
  {
   "cell_type": "markdown",
   "metadata": {},
   "source": [
    "Ao executar a célula acima, você deve ter descoberto que o Python não faz esta conversão automática. Para converter um valor numérico em string, precisamos usar a função global *str()* conforme mostrado na célula abaixo:"
   ]
  },
  {
   "cell_type": "code",
   "execution_count": 6,
   "metadata": {},
   "outputs": [
    {
     "name": "stdout",
     "output_type": "stream",
     "text": [
      "A resposta à pergunta derradeira é 42\n"
     ]
    }
   ],
   "source": [
    "dado = \"A resposta à pergunta derradeira é \" + str(40 + 2)\n",
    "print(dado)"
   ]
  },
  {
   "cell_type": "markdown",
   "metadata": {},
   "source": [
    "Observe que usamos a operação de adição numérica para mostrar que o operador *+* além de juntar strings serve também para adicionar números \\(valores numéricos\\)."
   ]
  },
  {
   "cell_type": "code",
   "execution_count": null,
   "metadata": {},
   "outputs": [],
   "source": []
  }
 ],
 "metadata": {
  "kernelspec": {
   "display_name": "Python 3",
   "language": "python",
   "name": "python3"
  },
  "language_info": {
   "codemirror_mode": {
    "name": "ipython",
    "version": 3
   },
   "file_extension": ".py",
   "mimetype": "text/x-python",
   "name": "python",
   "nbconvert_exporter": "python",
   "pygments_lexer": "ipython3",
   "version": "3.6.8"
  }
 },
 "nbformat": 4,
 "nbformat_minor": 2
}

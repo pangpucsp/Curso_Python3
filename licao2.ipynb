{
 "cells": [
  {
   "cell_type": "markdown",
   "metadata": {},
   "source": [
    "# 2 - Tipos de dados e operações\n",
    "\n",
    "Na primeira lição, vimos 2 tipos de dados conhecidos da linguagem Python: *number* e *string*. Nesta lição, vamos nos profundar mais nos tipos de dados e as operações que podemos realizar nestes tipos de dados.\n",
    "\n",
    "## 2.1 Números \\(*numbers*\\)\n",
    "\n",
    "Podemos usar o interpretador Python como uma calculadora simples:\n"
   ]
  },
  {
   "cell_type": "code",
   "execution_count": null,
   "metadata": {},
   "outputs": [],
   "source": [
    "10 * 7 - 28"
   ]
  },
  {
   "cell_type": "code",
   "execution_count": null,
   "metadata": {},
   "outputs": [],
   "source": [
    "# A próxima instrução importa a variável pi do módulo math\n",
    "from math import pi\n",
    "# Podemos agora converter 45 graus para radianos\n",
    "45 * pi / 180   # igual a pi / 4"
   ]
  },
  {
   "cell_type": "code",
   "execution_count": null,
   "metadata": {},
   "outputs": [],
   "source": [
    "# Cálculo do seno de 45 graus\n",
    "# a função seno também está no módulo math e se chama em inglês sin\n",
    "from math import sin\n",
    "sin(pi / 4)"
   ]
  },
  {
   "cell_type": "markdown",
   "metadata": {},
   "source": [
    "Observe que não tivermos que re-importa o pi na célula acima.\n",
    "O notebook lembra o que aconteceu no cálculo de uma célula e as células seguintes podem usar o\n",
    "que já tinha sido feito. Isto é particularmente útil para as variáveis e definições de funções.\n",
    "\n",
    "Nota mais avançada(**NMA**): Notas mais avançadas são para os curiosos que querem uma explicação para tudo. Para os novatos e menos curiosos, elas não são importantes para o restante do aprendizado.\n",
    "\n",
    "Isto é o ambiente de cálculo, *evaluation environment*, da sua seção. As mudanças, atribuições, importações e definições são todas armazenadas em tabelas de símbolos, válidas pela seção. Observe que diferente do ambiente LISP, o notebook não salva as tabelas de simbolos entre seções."
   ]
  },
  {
   "cell_type": "code",
   "execution_count": null,
   "metadata": {},
   "outputs": [],
   "source": [
    "# Atribuimos um valor para a variável taxa nesta célula\n",
    "taxa = 10   # 10%"
   ]
  },
  {
   "cell_type": "code",
   "execution_count": null,
   "metadata": {},
   "outputs": [],
   "source": [
    "# E usamos aqui\n",
    "1000 * taxa / 100"
   ]
  },
  {
   "cell_type": "markdown",
   "metadata": {},
   "source": [
    "Observe que ao mandar executar a célula que atribuiu o valor `10` para a variável taxa, não houve nenhuma saída.\n",
    "Ao executar uma célula, o valor da última instrução é a saída da execução. Como a instrução de atribuição \\(`=`\\)\n",
    "não resulta num valor \\(**NMA**: em algumas outras linguagens de programação, a atribuição, `=`, é uma operação e resulta num valor, não no Python\\), o cálculo da célula com a atribuição não teve saídas. Experimente executar a célula abaixo."
   ]
  },
  {
   "cell_type": "code",
   "execution_count": null,
   "metadata": {},
   "outputs": [],
   "source": [
    "taxa = 10     # primeira instrução -> atribuição\n",
    "print(taxa)   # segunda instrução -> imprime valor de taxa"
   ]
  },
  {
   "cell_type": "markdown",
   "metadata": {},
   "source": [
    "### 2.1.1 Tipos de números em Python\n",
    "\n",
    "O Python tem 3 tipos de números:\n",
    "1. Inteiros\n",
    "2. Ponto Flutuante e\n",
    "3. Complexos\n",
    "\n",
    "#### 2.1.1.1 Inteiros\n",
    "\n",
    "As operações básicas que podemos realizar com números inteiros são: +, -, *, /, // e %.\n",
    "\n",
    "- Adição: 39 + 3\n",
    "- Subtração: 51 - 9\n",
    "- Multiplicação: 14 * 3\n",
    "- Divisão real: 127 / 3\n",
    "- Divisão inteira: 127 // 3\n",
    "- Resto da divisão: 127 % 3\n",
    "- Parte inteira de um número fracionário: int(4.666666666666667)\n",
    "- Arrendondamento de um número fracionário: round(4.666666666666667)\n",
    "\n",
    "#### 2.1.1.2 Ponto flutuante\n",
    ".... exemplos com ponto flutuante, notação científica, operações, conversões, exponenciação, biblioteca math\n",
    "\n",
    "#### 2.1.1.3 Complexos\n",
    "\n",
    "Exemplos:\n",
    "```\n",
    "a = 2 + 2j\n",
    "b = 1-1j \n",
    "print(\"(2+2j).(1-j) = \" + str(a * b))\n",
    "print(\"(2+2j)/(1-j) = \" + str(a / b))\n",
    "```\n"
   ]
  },
  {
   "cell_type": "code",
   "execution_count": null,
   "metadata": {},
   "outputs": [],
   "source": [
    "# Exercício: realize as operações acima como argumento de um print() e verifique se os resultados são os que você espera.\n",
    "print(39 + 3)"
   ]
  },
  {
   "cell_type": "markdown",
   "metadata": {},
   "source": [
    "## 2.2 Strings\n",
    "\n",
    "`string` serve para representar textos em Python, observe que Python não tem um tipo caracter como existe na maioria das linguagens de programação. Assim, um caracter é simplemente uma `string` com um único caracter. Uma `string` pode não ter nenhum caracter, `string` vazia, `''` ou `\"\"`, ou vários caracteres."
   ]
  },
  {
   "cell_type": "markdown",
   "metadata": {},
   "source": [
    "### 2.2.1 Operações sobre `string`s\n",
    "\n",
    "A operação mais básica sobre `string`s é a *concatenação*, i.e., a união de duas `string`s produzindo uma nova que é a junção das duas. Por exemplo:\n",
    "\n",
    "```\n",
    "'Alo,' + \"Mamae!\"    # a mesma coisa que 'Alo, Mamae!'\n",
    "```\n",
    "\n",
    "O operador `+` aplicado a duas `string`s faz a concatenação. Podemos encadear concatenações:\n",
    "\n",
    "```\n",
    "'A' + 'lo' + ',' + 'Mam' + 'ae' + '!'      # também é a mesma coisa que 'Alo, Mamae!'\n",
    "```"
   ]
  },
  {
   "cell_type": "code",
   "execution_count": null,
   "metadata": {},
   "outputs": [],
   "source": [
    "# Faça algumas concatenações e observe o resultado\n",
    "# Para quem já conhece JavaScript, observe que \"Alo, \" \"Mamae!\", válido em JS, não é válido em Python\n"
   ]
  },
  {
   "cell_type": "code",
   "execution_count": null,
   "metadata": {},
   "outputs": [],
   "source": []
  }
 ],
 "metadata": {
  "kernelspec": {
   "display_name": "Python 3",
   "language": "python",
   "name": "python3"
  },
  "language_info": {
   "codemirror_mode": {
    "name": "ipython",
    "version": 3
   },
   "file_extension": ".py",
   "mimetype": "text/x-python",
   "name": "python",
   "nbconvert_exporter": "python",
   "pygments_lexer": "ipython3",
   "version": "3.7.3"
  }
 },
 "nbformat": 4,
 "nbformat_minor": 2
}

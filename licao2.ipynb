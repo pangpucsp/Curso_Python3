{
 "cells": [
  {
   "cell_type": "markdown",
   "metadata": {},
   "source": [
    "# 2 - Tipos de dados e operações\n",
    "\n",
    "Na primeira lição, vimos 2 tipos de dados conhecidos da linguagem Python: *number* e *string*. Nesta lição, vamos nos profundar mais nos tipos de dados e as operações que podemos realizar nestes tipos de dados.\n",
    "\n",
    "## 2.1 Números \\(*numbers*\\)\n",
    "\n",
    "Podemos usar o interpretador Python como uma calculadora simples:\n"
   ]
  },
  {
   "cell_type": "code",
   "execution_count": null,
   "metadata": {},
   "outputs": [],
   "source": [
    "10 * 7 - 28"
   ]
  },
  {
   "cell_type": "code",
   "execution_count": null,
   "metadata": {},
   "outputs": [],
   "source": [
    "# A próxima instrução importa a variável pi do módulo math\n",
    "from math import pi\n",
    "# Podemos agora converter 45 graus para radianos\n",
    "45 * pi / 180   # igual a pi / 4"
   ]
  },
  {
   "cell_type": "code",
   "execution_count": null,
   "metadata": {},
   "outputs": [],
   "source": [
    "# Cálculo do seno de 45 graus\n",
    "# a função seno também está no módulo math e se chama em inglês sin\n",
    "from math import sin\n",
    "sin(pi / 4)"
   ]
  },
  {
   "cell_type": "markdown",
   "metadata": {},
   "source": [
    "Observe que não tivermos que re-importa o pi na célula acima.\n",
    "O notebook lembra o que aconteceu no cálculo de uma célula e as células seguintes podem usar o\n",
    "que já tinha sido feito. Isto é particularmente útil para as variáveis e definições de funções.\n",
    "\n",
    "Nota mais avançada(**NMA**): Notas mais avançadas são para os curiosos que querem uma explicação para tudo. Para os novatos e menos curiosos, elas não são importantes para o restante do aprendizado.\n",
    "\n",
    "Isto é o ambiente de cálculo, *evaluation environment*, da sua seção. As mudanças, atribuições, importações e definições são todas armazenadas em tabelas de símbolos, válidas pela seção. Observe que diferente do ambiente LISP, o notebook não salva as tabelas de simbolos entre seções."
   ]
  },
  {
   "cell_type": "code",
   "execution_count": null,
   "metadata": {},
   "outputs": [],
   "source": [
    "# Atribuimos um valor para a variável taxa nesta célula\n",
    "taxa = 10   # 10%"
   ]
  },
  {
   "cell_type": "code",
   "execution_count": null,
   "metadata": {},
   "outputs": [],
   "source": [
    "# E usamos aqui\n",
    "1000 * taxa / 100"
   ]
  },
  {
   "cell_type": "markdown",
   "metadata": {},
   "source": [
    "Observe que ao mandar executar a célula que atribuiu o valor `10` para a variável taxa, não houve nenhuma saída.\n",
    "Ao executar uma célula, o valor da última instrução é a saída da execução. Como a instrução de atribuição \\(`=`\\)\n",
    "não resulta num valor \\(**NMA**: em algumas outras linguagens de programação, a atribuição, `=`, é uma operação e resulta num valor, não no Python\\), o cálculo da célula com a atribuição não teve saídas. Experimente executar a célula abaixo."
   ]
  },
  {
   "cell_type": "code",
   "execution_count": null,
   "metadata": {},
   "outputs": [],
   "source": [
    "taxa = 10     # primeira instrução -> atribuição\n",
    "print(taxa)   # segunda instrução -> imprime valor de taxa"
   ]
  },
  {
   "cell_type": "markdown",
   "metadata": {},
   "source": [
    "### 2.1.1 Tipos de números em Python\n",
    "\n",
    "O Python tem 5 tipos de números:\n",
    "1. Inteiros\n",
    "2. Ponto Flutuante\n",
    "3. Complexos\n",
    "4. Fracionários\n",
    "5. Decimais\n",
    "\n",
    "#### 2.1.1.1 Inteiros\n",
    "\n",
    "O Python não tem vários tipos de inteiros como muitas outras linguagens. Assim, não temos inteiros sem sinal, inteiros com um determinado número de bits, etc. Os inteiros em Python trabalham com um número de bits transparente. Se o número não couber na representação do processador, o Python usa automaticamente uma representação do tipo *big number*. Isto significa que podemos usar números inteiros realmente muito grandes, óbvio que existe uma limitação, mas isto não tem importância para a maioria de de nós.\n",
    "\n",
    "As operações básicas que podemos realizar com números inteiros são: +, -, *, /, // e %.\n",
    "\n",
    "- Adição: `39 + 3`\n",
    "- Subtração: `51 - 9`\n",
    "- Multiplicação: `14 * 3`\n",
    "- Divisão real: `127 / 3`\n",
    "- Divisão inteira: `127 // 3`\n",
    "- Resto da divisão: `127 % 3`\n",
    "- Exponenciação: `2**32`\n",
    "- Parte inteira de um número fracionário: `int(4.666666666666667)`\n",
    "- Arrendondamento de um número fracionário: `round(4.666666666666667)`\n"
   ]
  },
  {
   "cell_type": "code",
   "execution_count": null,
   "metadata": {},
   "outputs": [],
   "source": [
    "# Exercícios: Coloque as operações acima dentro de prints e veja se o resultado é o esperado\n",
    "print(39 + 3)"
   ]
  },
  {
   "cell_type": "markdown",
   "metadata": {},
   "source": [
    "> A operação mais estranha é a divisão não inteira.\n",
    "> Mesmo quando os operandos são inteiros, o resultado de `/` é um número em ponto flutuante.\n",
    "\n",
    "Em outras linguagens de programação, se os 2 operandos são inteiros, a divisão com o `/` é a divisão inteira.\n",
    "A função `int()`, não apenas extrai a parte inteira de um número como também, converte um número dentro de uma *string* num número inteiro."
   ]
  },
  {
   "cell_type": "code",
   "execution_count": null,
   "metadata": {},
   "outputs": [],
   "source": [
    "# Execute o código abaixo, corrigindo uma linha com erro de cada vez, isto é,\n",
    "# corrija o primeiro erro, execute, corrija, execute, ...:\n",
    "print(42)\n",
    "print('42')\n",
    "print(int('42'))\n",
    "print(int('4.2'))\n",
    "print(int('a2'))"
   ]
  },
  {
   "cell_type": "markdown",
   "metadata": {},
   "source": [
    "#### 2.1.1.2 Ponto flutuante\n",
    "\n",
    "Ponto flutuante é uma aproximação para números reais. A representação de números reais pode ser bastante complicada. Especialmente para os números irracionais. Os irracionais e as dizimas periódicas não podem ser representadas com um número finito de dígitos. Portanto, não podem ser representados por um número finito de bits. Podemos pensar em representações especiais para alguns números excepcionais como &pi;, número de Euler, raíz quadrada de 2, etc. Mas não podemos generalizar,  existem infinitos números irracionais e números em dizima periódica. Além disso, existem números muito grandes e números muito pequenos \\(números muito próximos de zero, sem serem zero\\).\n",
    "\n",
    "Os cientistas e os engenheiros resolveram o problema de representar números muito grandes e números muito pequenos com a notação científica. Um número na notação científica sempres tem a forma:\n",
    "\n",
    "$$d.dddd~.~10^{expo}$$\n",
    "\n",
    "onde `d` é um digito de 0 a 9, com exceção do primeiro que não pode ser 0 \\(se a notação científica estiver normalizada\\) e `expo` é o expoente do 10.\n",
    "\n",
    "Por exemplo, temos as seguintes igualdades:\n",
    "\n",
    "$$2019=2019~.~10^0=201.9~.~10^1=20.19~.~10^2=2.019~.~10^3\\\\\n",
    "0.0015=0.0015~.~10^0=0.015~.~10^{-1}=0.15~.~10^{-2}=1.5~.~10^{-3}$$\n",
    "\n",
    "Os computadores \\(HW e SW\\) usam uma forma binária de notação científica para números reais chamada de [ponto flutuante](https://pt.wikipedia.org/wiki/IEEE_754). Na maioria das linguagens de programação podemos trabalhar com a versão de 32 bits \\(`float`\\) ou a versão de 64 bits \\(`double`\\). O Python só usa a versão `double`.\n",
    "\n",
    "As constantes literais de números em ponto flutuante em Python podem ser escritas como números que usamos no dia-a-dia, `42`, `1.25`, ... Com o cuidado de substituir a vírgula \\(,\\) pelo ponto \\(.\\), pois temos de escrever os números como os americanos. Além disso, podemos fornecer os números na notação científica, mas como não temos no teclado uma maneira simples de escrever $1.5~.~10^2$, este número é escrito `1.5e2`. O expoente do `10` é indicado pela letra `e` ou `E`.\n",
    "\n",
    "Podemos realizar as mesmas operações aritméticas dos números inteiros com os números em ponto flutuante, a exceção, é óbvio, da divisão inteira. Para extrair um número de ponto flutuante de uma *string* usa-se a função `float()`.\n",
    "\n",
    ".... exemplos com ponto flutuante, notação científica, operações, conversões, exponenciação, biblioteca math\n",
    "\n",
    "#### 2.1.1.3 Complexos\n",
    "\n",
    "Exemplos:\n",
    "```\n",
    "a = 2 + 2j\n",
    "b = 1-1j \n",
    "print(\"(2+2j).(1-j) = \" + str(a * b))\n",
    "print(\"(2+2j)/(1-j) = \" + str(a / b))\n",
    "```\n"
   ]
  },
  {
   "cell_type": "code",
   "execution_count": null,
   "metadata": {},
   "outputs": [],
   "source": [
    "# Exercício: realize as operações acima como argumento de um print() e verifique se os resultados são os que você espera.\n",
    "print(39 + 3)"
   ]
  },
  {
   "cell_type": "markdown",
   "metadata": {},
   "source": [
    "## 2.2 Strings\n",
    "\n",
    "`string` serve para representar textos em Python, observe que Python não tem um tipo caracter como existe na maioria das linguagens de programação. Assim, um caracter é simplemente uma `string` com um único caracter. Uma `string` pode não ter nenhum caracter, `string` vazia, `''` ou `\"\"`, ou vários caracteres."
   ]
  },
  {
   "cell_type": "markdown",
   "metadata": {},
   "source": [
    "### 2.2.1 Operações sobre `string`s\n",
    "\n",
    "A operação mais básica sobre `string`s é a *concatenação*, i.e., a união de duas `string`s produzindo uma nova que é a junção das duas. Por exemplo:\n",
    "\n",
    "```\n",
    "'Alo,' + \"Mamae!\"    # a mesma coisa que 'Alo, Mamae!'\n",
    "```\n",
    "\n",
    "O operador `+` aplicado a duas `string`s faz a concatenação. Podemos encadear concatenações:\n",
    "\n",
    "```\n",
    "'A' + 'lo' + ',' + 'Mam' + 'ae' + '!'      # também é a mesma coisa que 'Alo, Mamae!'\n",
    "```"
   ]
  },
  {
   "cell_type": "code",
   "execution_count": null,
   "metadata": {},
   "outputs": [],
   "source": [
    "# Faça algumas concatenações e observe o resultado\n",
    "# Para quem já conhece JavaScript, observe que \"Alo, \" \"Mamae!\", válido em JS, não é válido em Python\n"
   ]
  },
  {
   "cell_type": "code",
   "execution_count": null,
   "metadata": {},
   "outputs": [],
   "source": []
  }
 ],
 "metadata": {
  "kernelspec": {
   "display_name": "Python 3",
   "language": "python",
   "name": "python3"
  },
  "language_info": {
   "codemirror_mode": {
    "name": "ipython",
    "version": 3
   },
   "file_extension": ".py",
   "mimetype": "text/x-python",
   "name": "python",
   "nbconvert_exporter": "python",
   "pygments_lexer": "ipython3",
   "version": "3.7.3"
  }
 },
 "nbformat": 4,
 "nbformat_minor": 2
}
